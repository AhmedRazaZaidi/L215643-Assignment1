{
  "nbformat": 4,
  "nbformat_minor": 0,
  "metadata": {
    "colab": {
      "provenance": [],
      "collapsed_sections": []
    },
    "kernelspec": {
      "name": "python3",
      "display_name": "Python 3"
    },
    "language_info": {
      "name": "python"
    }
  },
  "cells": [
    {
      "cell_type": "code",
      "execution_count": 2,
      "metadata": {
        "colab": {
          "base_uri": "https://localhost:8080/"
        },
        "id": "9_dtsjmPyqsK",
        "outputId": "4fd20611-bbaa-441e-9919-188a03383b44"
      },
      "outputs": [
        {
          "output_type": "stream",
          "name": "stdout",
          "text": [
            "True\n",
            "False\n",
            "False\n"
          ]
        }
      ],
      "source": [
        "#Q1\n",
        "def check_input(test):\n",
        "  rows = len(test)\n",
        "  cols = len(test[0])\n",
        "  for r in range(rows):\n",
        "    for c in range(cols):\n",
        "      if type(test[r][c]) == str:\n",
        "        return False\n",
        "      elif c + 1 > cols:\n",
        "       if test[r][c] == test[r][c+1]:\n",
        "         return False\n",
        "  for c in range(cols):\n",
        "    for r in range(rows):\n",
        "      if r+1 < rows:\n",
        "        if test[r][c] == test[r+1][c]:\n",
        "          return False\n",
        "  return True\n",
        "\n",
        "test1 = [[1,2,3],\n",
        "        [2,3,1],\n",
        "        [3,1,2]]\n",
        "\n",
        "test2 = [[1,2,3,4],\n",
        "        [2,3,1,3],\n",
        "        [3,1,2,3],\n",
        "        [4,4,4,4]]\n",
        "\n",
        "test3 = [['a', 'b', 'c'],\n",
        "        ['b', 'c', 'a'],\n",
        "        ['c', 'a', 'b']]\n",
        "\n",
        "print(check_input(test1)) # must return true\n",
        "print(check_input(test2)) # must return false\n",
        "print(check_input(test3)) # must return false\n",
        "\n",
        "\n",
        "\n"
      ]
    },
    {
      "cell_type": "code",
      "source": [
        "#Q2\n",
        "import numpy as np\n",
        "import pandas as pd\n",
        "data=pd.read_csv(\"StudentMarkSheet.csv\")\n",
        "data\n",
        "data.index\n",
        "data = data.dropna()\n",
        "data\n",
        "data.index\n",
        "james = data.loc[data[\"Student name\"] == \"James Walker\", (\"Student name\", \"Exam name\", \"Marks\")]\n",
        "print(\"\\n\", james)\n"
      ],
      "metadata": {
        "colab": {
          "base_uri": "https://localhost:8080/"
        },
        "id": "YDjg0JYo6k8U",
        "outputId": "40af49fb-3830-4e83-bcaf-64a2221236e7"
      },
      "execution_count": 3,
      "outputs": [
        {
          "output_type": "stream",
          "name": "stdout",
          "text": [
            "\n",
            "      Student name    Exam name  Marks\n",
            "0    James Walker      Biology   31.0\n",
            "42   James Walker    Chemistry   61.0\n",
            "71   James Walker  Mathematics   23.0\n",
            "150  James Walker      Physics  100.0\n",
            "180  James Walker    Sociology   73.0\n"
          ]
        }
      ]
    },
    {
      "cell_type": "code",
      "source": [
        "#Q3\n",
        "import pandas as pd\n",
        "import numpy as np\n",
        "import matplotlib.pyplot as plt\n",
        "\n",
        "biology = data.loc[data[\"Exam name\"] == \"Biology\", \"Marks\"]\n",
        "\n",
        "n_biology = biology.count()\n",
        "\n",
        "S_biology = biology.sum()\n",
        "\n",
        "a_biology = S_biology / n_biology\n",
        "\n",
        "print(\"\\nTotal of Biology Tests: \", n_biology, \"\\nSigma of Biology: \", S_biology)\n",
        "\n",
        "print(\"\\nAverage of Biology: \", a_biology)\n",
        "\n",
        "chemistry = data.loc[data[\"Exam name\"] == \"Chemistry\", \"Marks\"]\n",
        "\n",
        "n_chemistry = chemistry.count()\n",
        "\n",
        "S_chemistry = chemistry.sum()\n",
        "\n",
        "a_chemistry = S_chemistry / n_chemistry\n",
        "\n",
        "print(\"\\nTotal of Chemistry Tests: \", n_chemistry, \"\\nSigma of Chemistry: \", S_chemistry)\n",
        "\n",
        "print(\"\\nAverage of Chemistry: \", a_chemistry)\n",
        "\n",
        "physics = data.loc[data[\"Exam name\"] == \"Physics\", \"Marks\"]\n",
        "\n",
        "n_physics = physics.count()\n",
        "\n",
        "S_physics = physics.sum()\n",
        "\n",
        "a_physics = S_physics / n_physics\n",
        "\n",
        "print(\"\\nTotal of Physics Tests: \", n_physics, \"\\nSigma of Physics: \", S_physics)\n",
        "\n",
        "print(\"\\nAverage of Physics: \", a_physics)\n",
        "\n",
        "maths = data.loc[data[\"Exam name\"] == \"Mathematics\", \"Marks\"]\n",
        "\n",
        "n_maths = maths.count()\n",
        "\n",
        "S_maths = maths.sum()\n",
        "\n",
        "a_maths = S_maths / n_maths\n",
        "\n",
        "print(\"\\nTotal of Mathematics Tests: \", n_maths, \"\\nSigma of Mathematics: \", S_maths)\n",
        "\n",
        "print(\"\\nAverage of Mathematics: \", a_maths)\n",
        "\n",
        "socio = data.loc[data[\"Exam name\"] == \"Sociology\", \"Marks\"]\n",
        "\n",
        "n_socio = socio.count()\n",
        "\n",
        "S_socio = socio.sum()\n",
        "\n",
        "a_socio = S_socio / n_socio\n",
        "\n",
        "print(\"\\nTotal of Sociology Tests: \", n_socio, \"\\nSigma of Sociology: \", S_socio)\n",
        "\n",
        "print(\"\\nAverage of Sociology: \", a_socio)\n",
        "marks = np.array([a_biology, a_chemistry, a_maths, a_physics, a_socio])\n",
        "subjects = np.array([\"Biology\", \"Chemistry\", \"Mathematics\", \"Physics\", \"Sociology\"])\n",
        "df = pd.DataFrame(marks, index=subjects)\n",
        "df.plot.bar(rot=0, color='maroon', width=0.4)\n",
        "plt.title(\"Averages of Each Subject\")\n",
        "plt.show()\n",
        "\n"
      ],
      "metadata": {
        "colab": {
          "base_uri": "https://localhost:8080/",
          "height": 715
        },
        "id": "uJupFT-75PQS",
        "outputId": "17d94f09-64ba-462d-831e-cadf340b3c76"
      },
      "execution_count": 4,
      "outputs": [
        {
          "output_type": "stream",
          "name": "stdout",
          "text": [
            "\n",
            "Total of Biology Tests:  38 \n",
            "Sigma of Biology:  1820.0\n",
            "\n",
            "Average of Biology:  47.89473684210526\n",
            "\n",
            "Total of Chemistry Tests:  26 \n",
            "Sigma of Chemistry:  1315.0\n",
            "\n",
            "Average of Chemistry:  50.57692307692308\n",
            "\n",
            "Total of Physics Tests:  21 \n",
            "Sigma of Physics:  1087.0\n",
            "\n",
            "Average of Physics:  51.76190476190476\n",
            "\n",
            "Total of Mathematics Tests:  36 \n",
            "Sigma of Mathematics:  1763.0\n",
            "\n",
            "Average of Mathematics:  48.97222222222222\n",
            "\n",
            "Total of Sociology Tests:  38 \n",
            "Sigma of Sociology:  2129.0\n",
            "\n",
            "Average of Sociology:  56.026315789473685\n"
          ]
        },
        {
          "output_type": "display_data",
          "data": {
            "text/plain": [
              "<Figure size 432x288 with 1 Axes>"
            ],
            "image/png": "[encoded data removed]"
          },
          "metadata": {
            "needs_background": "light"
          }
        }
      ]
    },
    {
      "cell_type": "code",
      "source": [
        "#Q4\n",
        "\n",
        "import pandas as pd\n",
        "df=pd.read_csv(\"CatData.csv\")\n",
        "df.head()\n",
        "n=df[df.isnull().any(axis=1)]\n",
        "df=df.dropna()\n",
        "print(df)\n",
        "\n",
        "import numpy as np\n",
        "import matplotlib.pyplot as plt\n",
        "from sklearn import linear_model\n",
        "\n",
        "num=int(len(df)*0.8)\n",
        "train=df[:num]\n",
        "test=df[num:]\n",
        "\n",
        "reg = linear_model.LinearRegression()\n",
        "train_x = np.array(train[[\"Tail Length (cm)\"]])\n",
        "train_y = np.array(train[[\"Mass (kg)\"]])\n",
        "reg.fit(train_x,train_y)\n",
        "coeff = reg.coef_\n",
        "inter = reg.intercept_\n",
        "print(\"Slope: \", coeff)\n",
        "print(\"Intercept: \",inter)\n",
        "plt.xlabel(\"Tail Length (cm)\")\n",
        "plt.ylabel(\"Mass (kg)\")\n",
        "plt.title(\"Tail Length vs Mass\")\n",
        "plt.scatter(train[\"Tail Length (cm)\"],train[\"Mass (kg)\"])\n",
        "plt.plot(train_x,train_x*coeff[0]+inter, color = 'Red')\n",
        "plt.show()"
      ],
      "metadata": {
        "colab": {
          "base_uri": "https://localhost:8080/",
          "height": 573
        },
        "id": "QdkDETOF8rv2",
        "outputId": "68f12a26-35b0-4eb4-9692-7e2d0643911c"
      },
      "execution_count": 6,
      "outputs": [
        {
          "output_type": "stream",
          "name": "stdout",
          "text": [
            "     Tail Length (cm)  Mass (kg)\n",
            "0                18.1      3.750\n",
            "1                18.6      3.800\n",
            "2                19.5      3.250\n",
            "3                19.3      3.450\n",
            "4                19.0      3.650\n",
            "..                ...        ...\n",
            "337              20.7      4.000\n",
            "338              20.2      3.400\n",
            "339              19.3      3.775\n",
            "340              21.0      4.100\n",
            "341              19.8      3.775\n",
            "\n",
            "[342 rows x 2 columns]\n",
            "Slope:  [[0.48913766]]\n",
            "Intercept:  [-5.57328662]\n"
          ]
        },
        {
          "output_type": "display_data",
          "data": {
            "text/plain": [
              "<Figure size 432x288 with 1 Axes>"
            ],
            "image/png": "[encoded data removed]"
          },
          "metadata": {
            "needs_background": "light"
          }
        }
      ]
    }
  ]
}